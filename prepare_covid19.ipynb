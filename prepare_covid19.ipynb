{
 "cells": [
  {
   "cell_type": "markdown",
   "metadata": {},
   "source": [
    "## Preparing COVID-19 Dataset for Visualization"
   ]
  },
  {
   "cell_type": "markdown",
   "metadata": {},
   "source": [
    "### Data Cleaning"
   ]
  },
  {
   "cell_type": "code",
   "execution_count": 1,
   "metadata": {},
   "outputs": [
    {
     "data": {
      "text/html": [
       "<div>\n",
       "<style scoped>\n",
       "    .dataframe tbody tr th:only-of-type {\n",
       "        vertical-align: middle;\n",
       "    }\n",
       "\n",
       "    .dataframe tbody tr th {\n",
       "        vertical-align: top;\n",
       "    }\n",
       "\n",
       "    .dataframe thead th {\n",
       "        text-align: right;\n",
       "    }\n",
       "</style>\n",
       "<table border=\"1\" class=\"dataframe\">\n",
       "  <thead>\n",
       "    <tr style=\"text-align: right;\">\n",
       "      <th></th>\n",
       "      <th>Age</th>\n",
       "    </tr>\n",
       "  </thead>\n",
       "  <tbody>\n",
       "    <tr>\n",
       "      <th>count</th>\n",
       "      <td>4.066352e+06</td>\n",
       "    </tr>\n",
       "    <tr>\n",
       "      <th>mean</th>\n",
       "      <td>3.784972e+01</td>\n",
       "    </tr>\n",
       "    <tr>\n",
       "      <th>std</th>\n",
       "      <td>1.800668e+01</td>\n",
       "    </tr>\n",
       "    <tr>\n",
       "      <th>min</th>\n",
       "      <td>-1.000000e+00</td>\n",
       "    </tr>\n",
       "    <tr>\n",
       "      <th>25%</th>\n",
       "      <td>2.600000e+01</td>\n",
       "    </tr>\n",
       "    <tr>\n",
       "      <th>50%</th>\n",
       "      <td>3.500000e+01</td>\n",
       "    </tr>\n",
       "    <tr>\n",
       "      <th>75%</th>\n",
       "      <td>5.000000e+01</td>\n",
       "    </tr>\n",
       "    <tr>\n",
       "      <th>max</th>\n",
       "      <td>1.070000e+02</td>\n",
       "    </tr>\n",
       "  </tbody>\n",
       "</table>\n",
       "</div>"
      ],
      "text/plain": [
       "                Age\n",
       "count  4.066352e+06\n",
       "mean   3.784972e+01\n",
       "std    1.800668e+01\n",
       "min   -1.000000e+00\n",
       "25%    2.600000e+01\n",
       "50%    3.500000e+01\n",
       "75%    5.000000e+01\n",
       "max    1.070000e+02"
      ]
     },
     "execution_count": 1,
     "metadata": {},
     "output_type": "execute_result"
    }
   ],
   "source": [
    "import pandas as pd\n",
    "import os\n",
    "\n",
    "# import data\n",
    "data_path = \"./covid19-data\"\n",
    "\n",
    "d1 = pd.read_csv(os.path.join(data_path,\n",
    "                 \"DOH COVID Data Drop_ 20230311 - 04 Case Information_batch_0.csv\"),\n",
    "                 low_memory=False)\n",
    "d2 = pd.read_csv(os.path.join(data_path,\n",
    "                 \"DOH COVID Data Drop_ 20230311 - 04 Case Information_batch_1.csv\"),\n",
    "                 low_memory=False)\n",
    "d3 = pd.read_csv(os.path.join(data_path,\n",
    "                 \"DOH COVID Data Drop_ 20230311 - 04 Case Information_batch_2.csv\"),\n",
    "                 low_memory=False)\n",
    "d4 = pd.read_csv(os.path.join(data_path,\n",
    "                 \"DOH COVID Data Drop_ 20230311 - 04 Case Information_batch_3.csv\"),\n",
    "                 low_memory=False)\n",
    "d5 = pd.read_csv(os.path.join(data_path,\n",
    "                 \"DOH COVID Data Drop_ 20230311 - 04 Case Information_batch_4.csv\"),\n",
    "                 low_memory=False)\n",
    "data = pd.concat([d1, d2, d3, d4, d5])\n",
    "\n",
    "data.describe()"
   ]
  },
  {
   "cell_type": "markdown",
   "metadata": {},
   "source": [
    "Observe that the data from each respective csv files have been combined in the `data` variable. We now check the status of missing entries from each column of the data."
   ]
  },
  {
   "cell_type": "code",
   "execution_count": 7,
   "metadata": {},
   "outputs": [],
   "source": [
    "# check missing numbers\n",
    "import missingno as msno\n",
    "\n",
    "# msno.matrix(data)"
   ]
  },
  {
   "cell_type": "markdown",
   "metadata": {},
   "source": [
    "Observe that the _DateSpecimen_, _DateResultReleased_, _DateDied_ _DateRecovered_, _DateOnset_, and _Pregnanttab_ columns have a lot of missing entries. Meanwhile, some missing entries are observed for the _Age_, _AgeGroup_, _RemovalType_, _Admitted_, _ProvRes_, _CityMunRes_, _CityMuniPSGC_, _BarangayRes_, and _BarangayPSGC_ columns.\n",
    "\n",
    "From this, we remove the colums having a lot of missing entries."
   ]
  },
  {
   "cell_type": "code",
   "execution_count": null,
   "metadata": {},
   "outputs": [],
   "source": [
    "data = data.drop(['DateSpecimen', 'DateResultRelease', 'DateDied', 'DateRecover', 'DateOnset', 'Pregnanttab'], axis=1)\n",
    "\n",
    "# msno.matrix(data)"
   ]
  },
  {
   "cell_type": "markdown",
   "metadata": {},
   "source": [
    "We also remove some columns that will not be included in our analysis."
   ]
  },
  {
   "cell_type": "code",
   "execution_count": null,
   "metadata": {},
   "outputs": [],
   "source": [
    "data = data.drop(['RemovalType', 'Admitted', 'RegionRes', 'CityMuniPSGC', 'BarangayRes', 'BarangayPSGC',\n",
    "                    'HealthStatus', 'Quarantined', 'ValidationStatus'], axis=1)\n",
    "\n",
    "# msno.matrix(data)"
   ]
  },
  {
   "cell_type": "markdown",
   "metadata": {},
   "source": [
    "We now remove rows with missing values in the remaining columns."
   ]
  },
  {
   "cell_type": "code",
   "execution_count": 28,
   "metadata": {},
   "outputs": [
    {
     "name": "stdout",
     "output_type": "stream",
     "text": [
      "Original count: \n",
      " CaseCode       4077757\n",
      "Age            4066352\n",
      "AgeGroup       4066352\n",
      "Sex            4077756\n",
      "DateRepConf    4077757\n",
      "ProvRes        4020420\n",
      "CityMunRes     3987842\n",
      "dtype: int64 \n",
      "\n",
      "New count: \n",
      " CaseCode       3977973\n",
      "Age            3977973\n",
      "AgeGroup       3977973\n",
      "Sex            3977973\n",
      "DateRepConf    3977973\n",
      "ProvRes        3977973\n",
      "CityMunRes     3977973\n",
      "dtype: int64\n"
     ]
    }
   ],
   "source": [
    "data_cleaned = data.copy().dropna()\n",
    "print(f'Original count: \\n {data.count()} \\n')\n",
    "print(f'New count: \\n {data_cleaned.count()}')"
   ]
  },
  {
   "cell_type": "markdown",
   "metadata": {},
   "source": [
    "Let's look at the description of the remaining columns to give us a context in our analysis."
   ]
  },
  {
   "cell_type": "code",
   "execution_count": null,
   "metadata": {},
   "outputs": [],
   "source": [
    "metadata = pd.read_csv(os.path.join(data_path, \n",
    "                                    \"DOH COVID Data Drop_ 20230422 - 03 Metadata - Fields.csv\"))"
   ]
  },
  {
   "cell_type": "code",
   "execution_count": null,
   "metadata": {},
   "outputs": [
    {
     "data": {
      "text/html": [
       "<div>\n",
       "<style scoped>\n",
       "    .dataframe tbody tr th:only-of-type {\n",
       "        vertical-align: middle;\n",
       "    }\n",
       "\n",
       "    .dataframe tbody tr th {\n",
       "        vertical-align: top;\n",
       "    }\n",
       "\n",
       "    .dataframe thead th {\n",
       "        text-align: right;\n",
       "    }\n",
       "</style>\n",
       "<table border=\"1\" class=\"dataframe\">\n",
       "  <thead>\n",
       "    <tr style=\"text-align: right;\">\n",
       "      <th></th>\n",
       "      <th>Field</th>\n",
       "      <th>Description</th>\n",
       "      <th>Type</th>\n",
       "    </tr>\n",
       "  </thead>\n",
       "  <tbody>\n",
       "    <tr>\n",
       "      <th>0</th>\n",
       "      <td>CaseCode</td>\n",
       "      <td>Random code assigned for labelling cases; does...</td>\n",
       "      <td>Text</td>\n",
       "    </tr>\n",
       "    <tr>\n",
       "      <th>1</th>\n",
       "      <td>Age</td>\n",
       "      <td>Age</td>\n",
       "      <td>Number</td>\n",
       "    </tr>\n",
       "    <tr>\n",
       "      <th>2</th>\n",
       "      <td>AgeGroup</td>\n",
       "      <td>Five-year age group</td>\n",
       "      <td>Text</td>\n",
       "    </tr>\n",
       "    <tr>\n",
       "      <th>3</th>\n",
       "      <td>Sex</td>\n",
       "      <td>Sex</td>\n",
       "      <td>Text</td>\n",
       "    </tr>\n",
       "    <tr>\n",
       "      <th>6</th>\n",
       "      <td>DateRepConf</td>\n",
       "      <td>Date publicly announced as confirmed case</td>\n",
       "      <td>Date</td>\n",
       "    </tr>\n",
       "    <tr>\n",
       "      <th>12</th>\n",
       "      <td>ProvRes</td>\n",
       "      <td>Province of residence</td>\n",
       "      <td>Text</td>\n",
       "    </tr>\n",
       "    <tr>\n",
       "      <th>13</th>\n",
       "      <td>CityMunRes</td>\n",
       "      <td>City of residence</td>\n",
       "      <td>Text</td>\n",
       "    </tr>\n",
       "  </tbody>\n",
       "</table>\n",
       "</div>"
      ],
      "text/plain": [
       "          Field                                        Description    Type\n",
       "0      CaseCode  Random code assigned for labelling cases; does...    Text\n",
       "1           Age                                                Age  Number\n",
       "2      AgeGroup                                Five-year age group    Text\n",
       "3           Sex                                                Sex    Text\n",
       "6   DateRepConf          Date publicly announced as confirmed case    Date\n",
       "12      ProvRes                              Province of residence    Text\n",
       "13   CityMunRes                                  City of residence    Text"
      ]
     },
     "execution_count": 78,
     "metadata": {},
     "output_type": "execute_result"
    }
   ],
   "source": [
    "metadata[['Field', 'Description', 'Type']].iloc[[0, 1, 2, 3, 6, 12, 13]]"
   ]
  },
  {
   "cell_type": "code",
   "execution_count": null,
   "metadata": {},
   "outputs": [
    {
     "name": "stdout",
     "output_type": "stream",
     "text": [
      "<class 'pandas.core.frame.DataFrame'>\n",
      "Index: 3977973 entries, 0 to 77756\n",
      "Data columns (total 7 columns):\n",
      " #   Column       Dtype  \n",
      "---  ------       -----  \n",
      " 0   CaseCode     object \n",
      " 1   Age          float64\n",
      " 2   AgeGroup     object \n",
      " 3   Sex          object \n",
      " 4   DateRepConf  object \n",
      " 5   ProvRes      object \n",
      " 6   CityMunRes   object \n",
      "dtypes: float64(1), object(6)\n",
      "memory usage: 242.8+ MB\n"
     ]
    }
   ],
   "source": [
    "data_cleaned.info()"
   ]
  },
  {
   "cell_type": "markdown",
   "metadata": {},
   "source": [
    "### Data Structuring"
   ]
  },
  {
   "cell_type": "markdown",
   "metadata": {},
   "source": [
    "Let's now structure our data to our preferred format:\n",
    "1. Convert the date column to the correct format.\n",
    "2. Use _F_ or _M_ for the sex column.\n",
    "3. Filter values from 2020 to 2022 only.\n",
    "4. Change the locations entries to their corresponding coordinates."
   ]
  },
  {
   "cell_type": "code",
   "execution_count": 9,
   "metadata": {},
   "outputs": [],
   "source": [
    "data_cleaned['DateRepConf'] = pd.to_datetime(data_cleaned['DateRepConf'])"
   ]
  },
  {
   "cell_type": "code",
   "execution_count": 10,
   "metadata": {},
   "outputs": [],
   "source": [
    "data_cleaned.loc[data_cleaned['Sex'] == 'FEMALE', 'Sex'] = 'F'\n",
    "data_cleaned.loc[data_cleaned['Sex'] == 'MALE', 'Sex'] = 'M'"
   ]
  },
  {
   "cell_type": "code",
   "execution_count": 11,
   "metadata": {},
   "outputs": [],
   "source": [
    "data_cleaned = data_cleaned[data_cleaned['DateRepConf'].dt.year.isin([2020,2021,2022])]"
   ]
  },
  {
   "cell_type": "code",
   "execution_count": 82,
   "metadata": {},
   "outputs": [],
   "source": [
    "# convert the city and province locations into latitude, longitude format\n",
    "\n",
    "from tqdm import tqdm\n",
    "from geopy.geocoders import Nominatim\n",
    "loc = Nominatim(user_agent='AM255')\n",
    "\n",
    "\n",
    "# convert unique provinces and city/municipality\n",
    "\n",
    "loc_cols = ['ProvRes', 'CityMunRes']  # location columns\n",
    "loc_latlong = {col: [] for col in loc_cols}"
   ]
  },
  {
   "cell_type": "code",
   "execution_count": 83,
   "metadata": {},
   "outputs": [
    {
     "name": "stderr",
     "output_type": "stream",
     "text": [
      "84it [01:31,  1.09s/it]\n"
     ]
    }
   ],
   "source": [
    "# getting coordinates of provinces\n",
    "loc_latlong['ProvRes'] = []\n",
    "for idx, location in tqdm(enumerate(data_cleaned['ProvRes'].unique())):\n",
    "    get_loc = loc.geocode(location + ' Philippines', timeout=None)\n",
    "\n",
    "    if get_loc is None:\n",
    "        loc_latlong['ProvRes'].append([location, None])\n",
    "    else:\n",
    "        loc_latlong['ProvRes'].append([location, str(get_loc.latitude) + ', ' + str(get_loc.longitude)])"
   ]
  },
  {
   "cell_type": "code",
   "execution_count": null,
   "metadata": {},
   "outputs": [
    {
     "name": "stderr",
     "output_type": "stream",
     "text": [
      "1436it [24:06,  1.01s/it]\n"
     ]
    }
   ],
   "source": [
    "# getting coordinates of city/municipalities\n",
    "# loc_latlong['CityMunRes'] = []\n",
    "for idx, location in tqdm(enumerate(data_cleaned['CityMunRes'].unique())):\n",
    "    get_loc = loc.geocode(location + ' Philippines', timeout=None)\n",
    "\n",
    "    if get_loc is None:\n",
    "        loc_latlong['CityMunRes'].append([location, None])\n",
    "    else:\n",
    "        loc_latlong['CityMunRes'].append([location, str(get_loc.latitude) + ', ' + str(get_loc.longitude)])"
   ]
  },
  {
   "cell_type": "code",
   "execution_count": 208,
   "metadata": {},
   "outputs": [],
   "source": [
    "# manually input coordinates of locations not detected by geopy\n",
    "\n",
    "# prov_idx = [idx for idx in range(len(loc_latlong['ProvRes'])) if loc_latlong['ProvRes'][idx, 1] is None]\n",
    "citmun_idx = [idx for idx in range(len(loc_latlong['CityMunRes'])) if loc_latlong['CityMunRes'][idx, 1] is None]\n",
    "\n",
    "# loc_latlong['ProvRes'][prov_idx, 0]\n",
    "# loc_latlong['ProvRes'][prov_idx, 1] = ['7.2047, 124.2310', '6.7029, 121.9690']\n",
    "\n",
    "loc_latlong['CityMunRes'][citmun_idx, 1] = [\n",
    "    '15.067632, 120.648920', '9.7638, 118.7473', '17.6132, 121.7270', '14.8527, 120.8160', '13.3941, 121.8790',\n",
    "    '13.3771, 121.1646', '15.4755, 120.5963', '16.4804, 121.1481', '7.4471, 125.8094', '6.9522, 126.2173',\n",
    "    '14.6799, 120.5421', '6.7388, 125.3549', '16.1505, 119.9856', '7.9943, 123.8746', '13.1028, 123.6959',\n",
    "    '7.0106, 125.0911', '6.4974, 124.8472', '16.9166, 121.7879', '13.2407, 123.5380', '11.8240, 124.8403',\n",
    "    '6.4118, 125.6132', '6.8531, 124.3976', '6.6615, 122.1065', '17.4117, 121.4384', '8.1479, 125.1321',\n",
    "    '16.8083, 121.1939', '7.8345, 124.3477', '7.7821, 124.4642', '7.92, 124.2', '10.8412, 123.4991',\n",
    "    '12.9700, 124.0030', '7.8735, 124.1254', '10.1654, 124.8403', '17.5705, 120.3873', '10.0988, 122.8710',\n",
    "    '10.2704, 123.0758', '7.3001, 125.9370', '17.1874, 120.4467', '7.3362, 126.1328', '8.3924, 123.4271',\n",
    "    '9.4444, 123.1801', '10.1206, 123.2717', '8.3803, 123.0564', '18.0172, 121.1842', '13.7367, 123.7406',\n",
    "    '13.5849, 124.2066', '15.3634, 121.2168', '9.7198, 122.4920', '13.2978, 122.5599', '7.6038, 125.9632',\n",
    "    '12.3574, 123.5504', '17.5882, 120.6315', '13.2682, 120.6205', '5.1042, 119.8121', '6.1042, 125.2879',\n",
    "    '17.4930, 121.6055', '8.0042, 123.4608', '11.6080, 125.4329', '8.5183, 123.2328', '9.1012, 126.1589',\n",
    "    '17.1503, 120.5481', '7.7431, 120.4583', '8.9622, 125.2039', '9.2322, 124.7078', '8.5618, 124.5246',\n",
    "    '17.1031, 120.6890', '10.0192, 126.0387', '16.4199, 121.5142', '10.121, 124.553', '7.7488, 124.1198',\n",
    "    '14.1189, 122.8710', '10.1039, 125.5767', '17.1188, 120.6186', '5.9564, 121.1825'\n",
    "]"
   ]
  },
  {
   "cell_type": "code",
   "execution_count": null,
   "metadata": {},
   "outputs": [],
   "source": [
    "df_prov = pd.DataFrame(loc_latlong['ProvRes'], columns=['ProvRes', 'ProvCoord'])\n",
    "df_citmun = pd.DataFrame(loc_latlong['CityMunRes'], columns=['CityMunRes', 'CityMunCoord'])\n",
    "\n",
    "df_prov.to_csv(os.path.join(data_path, 'coords_prov.csv'), index=False)\n",
    "df_citmun.to_csv(os.path.join(data_path, 'coords_citmun.csv'), index=False)"
   ]
  },
  {
   "cell_type": "code",
   "execution_count": 219,
   "metadata": {},
   "outputs": [
    {
     "data": {
      "text/html": [
       "<div>\n",
       "<style scoped>\n",
       "    .dataframe tbody tr th:only-of-type {\n",
       "        vertical-align: middle;\n",
       "    }\n",
       "\n",
       "    .dataframe tbody tr th {\n",
       "        vertical-align: top;\n",
       "    }\n",
       "\n",
       "    .dataframe thead th {\n",
       "        text-align: right;\n",
       "    }\n",
       "</style>\n",
       "<table border=\"1\" class=\"dataframe\">\n",
       "  <thead>\n",
       "    <tr style=\"text-align: right;\">\n",
       "      <th></th>\n",
       "      <th>CaseCode</th>\n",
       "      <th>Age</th>\n",
       "      <th>AgeGroup</th>\n",
       "      <th>Sex</th>\n",
       "      <th>DateRepConf</th>\n",
       "      <th>ProvRes</th>\n",
       "      <th>CityMunRes</th>\n",
       "      <th>ProvCoord</th>\n",
       "      <th>CityMunCoord</th>\n",
       "    </tr>\n",
       "  </thead>\n",
       "  <tbody>\n",
       "    <tr>\n",
       "      <th>0</th>\n",
       "      <td>C404174</td>\n",
       "      <td>38.0</td>\n",
       "      <td>35 to 39</td>\n",
       "      <td>FEMALE</td>\n",
       "      <td>2020-01-30</td>\n",
       "      <td>NEGROS ORIENTAL</td>\n",
       "      <td>DUMAGUETE CITY (CAPITAL)</td>\n",
       "      <td>9.75, 123.0</td>\n",
       "      <td>14.651068321895105, 121.03147238313927</td>\n",
       "    </tr>\n",
       "    <tr>\n",
       "      <th>1</th>\n",
       "      <td>C462688</td>\n",
       "      <td>44.0</td>\n",
       "      <td>40 to 44</td>\n",
       "      <td>MALE</td>\n",
       "      <td>2020-02-03</td>\n",
       "      <td>NEGROS ORIENTAL</td>\n",
       "      <td>DUMAGUETE CITY (CAPITAL)</td>\n",
       "      <td>9.75, 123.0</td>\n",
       "      <td>14.651068321895105, 121.03147238313927</td>\n",
       "    </tr>\n",
       "    <tr>\n",
       "      <th>2</th>\n",
       "      <td>C387710</td>\n",
       "      <td>60.0</td>\n",
       "      <td>60 to 64</td>\n",
       "      <td>FEMALE</td>\n",
       "      <td>2020-02-05</td>\n",
       "      <td>BOHOL</td>\n",
       "      <td>PANGLAO</td>\n",
       "      <td>9.833333, 124.1615579</td>\n",
       "      <td>9.5791851, 123.7452642</td>\n",
       "    </tr>\n",
       "    <tr>\n",
       "      <th>3</th>\n",
       "      <td>C498051</td>\n",
       "      <td>63.0</td>\n",
       "      <td>60 to 64</td>\n",
       "      <td>MALE</td>\n",
       "      <td>2020-03-06</td>\n",
       "      <td>RIZAL</td>\n",
       "      <td>CAINTA</td>\n",
       "      <td>14.65, 121.25</td>\n",
       "      <td>14.5780161, 121.1163072</td>\n",
       "    </tr>\n",
       "    <tr>\n",
       "      <th>4</th>\n",
       "      <td>C377460</td>\n",
       "      <td>49.0</td>\n",
       "      <td>45 to 49</td>\n",
       "      <td>MALE</td>\n",
       "      <td>2020-03-06</td>\n",
       "      <td>BATANGAS</td>\n",
       "      <td>SANTO TOMAS</td>\n",
       "      <td>13.9146826, 121.0867566</td>\n",
       "      <td>14.1078443, 121.1453304</td>\n",
       "    </tr>\n",
       "    <tr>\n",
       "      <th>...</th>\n",
       "      <td>...</td>\n",
       "      <td>...</td>\n",
       "      <td>...</td>\n",
       "      <td>...</td>\n",
       "      <td>...</td>\n",
       "      <td>...</td>\n",
       "      <td>...</td>\n",
       "      <td>...</td>\n",
       "      <td>...</td>\n",
       "    </tr>\n",
       "    <tr>\n",
       "      <th>3977968</th>\n",
       "      <td>C52803057</td>\n",
       "      <td>29.0</td>\n",
       "      <td>25 to 29</td>\n",
       "      <td>MALE</td>\n",
       "      <td>2023-03-11</td>\n",
       "      <td>NCR</td>\n",
       "      <td>CITY OF MANILA</td>\n",
       "      <td>14.5736108, 121.0329706</td>\n",
       "      <td>14.5904492, 120.9803621</td>\n",
       "    </tr>\n",
       "    <tr>\n",
       "      <th>3977969</th>\n",
       "      <td>C21585070</td>\n",
       "      <td>5.0</td>\n",
       "      <td>5 to 9</td>\n",
       "      <td>MALE</td>\n",
       "      <td>2023-03-11</td>\n",
       "      <td>NCR</td>\n",
       "      <td>CITY OF PASIG</td>\n",
       "      <td>14.5736108, 121.0329706</td>\n",
       "      <td>14.5605166, 121.0764343</td>\n",
       "    </tr>\n",
       "    <tr>\n",
       "      <th>3977970</th>\n",
       "      <td>C8641682</td>\n",
       "      <td>28.0</td>\n",
       "      <td>25 to 29</td>\n",
       "      <td>MALE</td>\n",
       "      <td>2023-03-11</td>\n",
       "      <td>NCR</td>\n",
       "      <td>CITY OF PASIG</td>\n",
       "      <td>14.5736108, 121.0329706</td>\n",
       "      <td>14.5605166, 121.0764343</td>\n",
       "    </tr>\n",
       "    <tr>\n",
       "      <th>3977971</th>\n",
       "      <td>C66948100</td>\n",
       "      <td>28.0</td>\n",
       "      <td>25 to 29</td>\n",
       "      <td>FEMALE</td>\n",
       "      <td>2023-03-11</td>\n",
       "      <td>PALAWAN</td>\n",
       "      <td>SOFRONIO ESPAÑOLA</td>\n",
       "      <td>11.0798978, 120.93734215474105</td>\n",
       "      <td>8.9636169, 118.0004439</td>\n",
       "    </tr>\n",
       "    <tr>\n",
       "      <th>3977972</th>\n",
       "      <td>C12446638</td>\n",
       "      <td>31.0</td>\n",
       "      <td>30 to 34</td>\n",
       "      <td>FEMALE</td>\n",
       "      <td>2023-03-11</td>\n",
       "      <td>BULACAN</td>\n",
       "      <td>CITY OF MALOLOS (CAPITAL)</td>\n",
       "      <td>15.0, 121.083333</td>\n",
       "      <td>14.8527, 120.8160</td>\n",
       "    </tr>\n",
       "  </tbody>\n",
       "</table>\n",
       "<p>3977973 rows × 9 columns</p>\n",
       "</div>"
      ],
      "text/plain": [
       "          CaseCode   Age  AgeGroup     Sex DateRepConf          ProvRes  \\\n",
       "0          C404174  38.0  35 to 39  FEMALE  2020-01-30  NEGROS ORIENTAL   \n",
       "1          C462688  44.0  40 to 44    MALE  2020-02-03  NEGROS ORIENTAL   \n",
       "2          C387710  60.0  60 to 64  FEMALE  2020-02-05            BOHOL   \n",
       "3          C498051  63.0  60 to 64    MALE  2020-03-06            RIZAL   \n",
       "4          C377460  49.0  45 to 49    MALE  2020-03-06         BATANGAS   \n",
       "...            ...   ...       ...     ...         ...              ...   \n",
       "3977968  C52803057  29.0  25 to 29    MALE  2023-03-11              NCR   \n",
       "3977969  C21585070   5.0    5 to 9    MALE  2023-03-11              NCR   \n",
       "3977970   C8641682  28.0  25 to 29    MALE  2023-03-11              NCR   \n",
       "3977971  C66948100  28.0  25 to 29  FEMALE  2023-03-11          PALAWAN   \n",
       "3977972  C12446638  31.0  30 to 34  FEMALE  2023-03-11          BULACAN   \n",
       "\n",
       "                        CityMunRes                       ProvCoord  \\\n",
       "0         DUMAGUETE CITY (CAPITAL)                     9.75, 123.0   \n",
       "1         DUMAGUETE CITY (CAPITAL)                     9.75, 123.0   \n",
       "2                          PANGLAO           9.833333, 124.1615579   \n",
       "3                           CAINTA                   14.65, 121.25   \n",
       "4                      SANTO TOMAS         13.9146826, 121.0867566   \n",
       "...                            ...                             ...   \n",
       "3977968             CITY OF MANILA         14.5736108, 121.0329706   \n",
       "3977969              CITY OF PASIG         14.5736108, 121.0329706   \n",
       "3977970              CITY OF PASIG         14.5736108, 121.0329706   \n",
       "3977971          SOFRONIO ESPAÑOLA  11.0798978, 120.93734215474105   \n",
       "3977972  CITY OF MALOLOS (CAPITAL)                15.0, 121.083333   \n",
       "\n",
       "                                   CityMunCoord  \n",
       "0        14.651068321895105, 121.03147238313927  \n",
       "1        14.651068321895105, 121.03147238313927  \n",
       "2                        9.5791851, 123.7452642  \n",
       "3                       14.5780161, 121.1163072  \n",
       "4                       14.1078443, 121.1453304  \n",
       "...                                         ...  \n",
       "3977968                 14.5904492, 120.9803621  \n",
       "3977969                 14.5605166, 121.0764343  \n",
       "3977970                 14.5605166, 121.0764343  \n",
       "3977971                  8.9636169, 118.0004439  \n",
       "3977972                       14.8527, 120.8160  \n",
       "\n",
       "[3977973 rows x 9 columns]"
      ]
     },
     "execution_count": 219,
     "metadata": {},
     "output_type": "execute_result"
    }
   ],
   "source": [
    "# join the coordinates to the dataset\n",
    "data_cleaned = pd.merge(data_cleaned, df_prov, on='ProvRes', how='left')\n",
    "data_cleaned = pd.merge(data_cleaned, df_citmun, on='CityMunRes', how='left')\n",
    "data_cleaned"
   ]
  },
  {
   "cell_type": "markdown",
   "metadata": {},
   "source": [
    "### Separating and Exporting Datasets"
   ]
  },
  {
   "cell_type": "code",
   "execution_count": 8,
   "metadata": {},
   "outputs": [],
   "source": [
    "data_cleaned.to_csv(os.path.join(data_path, 'covid-data-cleaned.csv'), index=False)"
   ]
  },
  {
   "cell_type": "code",
   "execution_count": 2,
   "metadata": {},
   "outputs": [],
   "source": [
    "import pandas as pd\n",
    "import os\n",
    "\n",
    "# import data\n",
    "data_path = \"./covid19-data\"\n",
    "data_cleaned = pd.read_csv(os.path.join(data_path, 'covid-data-cleaned.csv'))"
   ]
  },
  {
   "cell_type": "code",
   "execution_count": null,
   "metadata": {},
   "outputs": [
    {
     "name": "stdout",
     "output_type": "stream",
     "text": [
      "<class 'pandas.core.frame.DataFrame'>\n",
      "RangeIndex: 3977973 entries, 0 to 3977972\n",
      "Data columns (total 9 columns):\n",
      " #   Column        Dtype  \n",
      "---  ------        -----  \n",
      " 0   CaseCode      object \n",
      " 1   Age           float64\n",
      " 2   AgeGroup      object \n",
      " 3   Sex           object \n",
      " 4   DateRepConf   object \n",
      " 5   ProvRes       object \n",
      " 6   CityMunRes    object \n",
      " 7   ProvCoord     object \n",
      " 8   CityMunCoord  object \n",
      "dtypes: float64(1), object(8)\n",
      "memory usage: 273.1+ MB\n"
     ]
    }
   ],
   "source": [
    "data_cleaned.info()"
   ]
  },
  {
   "cell_type": "code",
   "execution_count": 7,
   "metadata": {},
   "outputs": [],
   "source": [
    "data_cleaned['DateRepConf'] = pd.to_datetime(data_cleaned['DateRepConf'])"
   ]
  },
  {
   "cell_type": "code",
   "execution_count": 10,
   "metadata": {},
   "outputs": [],
   "source": [
    "data_cleaned = data_cleaned[data_cleaned['DateRepConf'].dt.year.isin([2020,2021,2022])]"
   ]
  },
  {
   "cell_type": "code",
   "execution_count": 24,
   "metadata": {},
   "outputs": [
    {
     "data": {
      "text/plain": [
       "array([ 38.,  44.,  60.,  63.,  49.,  58.,  39.,  86.,  46.,  70.,  31.,\n",
       "        68.,  41.,  52.,  48.,  51.,  57.,  25.,  59.,  34.,  82.,  29.,\n",
       "        64.,  43.,  73.,  67.,  75.,  76.,  65.,  53.,  66.,  28.,  54.,\n",
       "        50.,  72.,  79.,  26.,  40.,  33.,  45.,  35.,  32.,  23.,  69.,\n",
       "        77.,  55.,  42.,  27.,  71.,  88.,  61.,  30.,  47.,  36.,  13.,\n",
       "        74.,  56.,  78.,  37.,  21.,  62.,  24.,  89.,  20.,  80.,  84.,\n",
       "        19.,  83.,  81.,  87.,  93.,  96.,  22.,   5.,  85.,   1.,  17.,\n",
       "        18.,  98.,   2.,  90.,  92.,  91.,   3.,   8.,  15.,   0.,   7.,\n",
       "        11.,  16.,   9.,  12.,   4.,  14.,  10.,  94.,   6.,  97.,  95.,\n",
       "        99.,  -1., 101., 103., 100., 107., 102., 105., 104., 106.])"
      ]
     },
     "execution_count": 24,
     "metadata": {},
     "output_type": "execute_result"
    }
   ],
   "source": [
    "data_cleaned['Age'].unique()"
   ]
  },
  {
   "cell_type": "code",
   "execution_count": null,
   "metadata": {},
   "outputs": [],
   "source": [
    "data_demog = data_cleaned[['CaseCode', 'Age', 'Sex']]  # age and sex\n",
    "data_prov = data_cleaned[['CaseCode', 'ProvRes']]\n",
    "data_citmun = data_cleaned[['CaseCode', 'CityMunRes']]\n",
    "data_date = data_cleaned[['CaseCode', 'DateRepConf']]"
   ]
  },
  {
   "cell_type": "code",
   "execution_count": 6,
   "metadata": {},
   "outputs": [],
   "source": [
    "# export into csv files\n",
    "data_demog.to_csv(os.path.join(data_path, 'covid-demog.csv'), index=False)\n",
    "data_prov.to_csv(os.path.join(data_path, 'covid-prov.csv'), index=False)\n",
    "data_citmun.to_csv(os.path.join(data_path, 'covid-citmun.csv'), index=False)\n",
    "data_date.to_csv(os.path.join(data_path, 'covid-date.csv'), index=False)"
   ]
  },
  {
   "cell_type": "code",
   "execution_count": 15,
   "metadata": {},
   "outputs": [],
   "source": [
    "data_loc = data_cleaned[['CaseCode', 'ProvCoord', 'CityMunCoord']]\n",
    "data_loc.to_csv(os.path.join(data_path, 'covid-loc.csv'), index=False)"
   ]
  },
  {
   "cell_type": "code",
   "execution_count": null,
   "metadata": {},
   "outputs": [],
   "source": []
  }
 ],
 "metadata": {
  "kernelspec": {
   "display_name": ".venv",
   "language": "python",
   "name": "python3"
  },
  "language_info": {
   "codemirror_mode": {
    "name": "ipython",
    "version": 3
   },
   "file_extension": ".py",
   "mimetype": "text/x-python",
   "name": "python",
   "nbconvert_exporter": "python",
   "pygments_lexer": "ipython3",
   "version": "3.10.10"
  }
 },
 "nbformat": 4,
 "nbformat_minor": 2
}
